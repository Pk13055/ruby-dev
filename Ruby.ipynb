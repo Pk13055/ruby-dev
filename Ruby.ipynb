{
 "cells": [
  {
   "cell_type": "markdown",
   "metadata": {},
   "source": [
    "# Ruby Development and Practice\n",
    "\n",
    "## Setup\n",
    "\n",
    "### About Rails\n",
    "\n",
    "This notebook will cover the basics of web development with ruby. `Ruby 2.3.1` is used throughout this notebook. Make sure you have a matching/higher version to ensure proper running on your PC as well. Further, having rails and gems installed is also a plus. Check your version(s) by running:\n",
    "```bash\n",
    "ruby -v\n",
    "rails -v\n",
    "gems -v\n",
    "```\n"
   ]
  },
  {
   "cell_type": "markdown",
   "metadata": {},
   "source": [
    "### Setting up your Web Application\n",
    "\n",
    "First, we will need to make a new application, run `rails new <app_name>`. This will create most of the _boilerplate_ code for you. Ruby follows an MVC (_model view controller_) architecture. After everything is setup, you can run `rails s` to start the development server on port **3000**."
   ]
  },
  {
   "cell_type": "code",
   "execution_count": 8,
   "metadata": {},
   "outputs": [
    {
     "name": "stdout",
     "output_type": "stream",
     "text": [
      "Your Application has been setup"
     ]
    }
   ],
   "source": [
    "print \"Your Application has been setup\"\n",
    "# ignore the remaining part of this cell\n",
    "class ApplicationController\n",
    "end"
   ]
  },
  {
   "cell_type": "markdown",
   "metadata": {},
   "source": [
    "## Syntax and Definitions\n",
    "\n",
    "Here, we will cover the basic syntax of classes, functions, etc. A class in ruby is defined as follows, with the `<` indicating inheritance (_extending_). A function is also defined. To send dynamic data to our views, we can do the following:"
   ]
  },
  {
   "cell_type": "code",
   "execution_count": 10,
   "metadata": {},
   "outputs": [
    {
     "data": {
      "text/plain": [
       ":index"
      ]
     },
     "execution_count": 10,
     "metadata": {},
     "output_type": "execute_result"
    }
   ],
   "source": [
    "class PostsController < ApplicationController\n",
    "  def index\n",
    "      @title = 'Posts Page'\n",
    "  end\n",
    "end"
   ]
  },
  {
   "cell_type": "markdown",
   "metadata": {},
   "source": [
    "This is our class definition, we have to add a template file to the `views/posts` folder called `func_name.html.erb`"
   ]
  },
  {
   "cell_type": "code",
   "execution_count": 11,
   "metadata": {
    "collapsed": true
   },
   "outputs": [],
   "source": [
    "# In our view index.html.erb, we can just as well do\n",
    "# <%= @title %>"
   ]
  },
  {
   "cell_type": "markdown",
   "metadata": {},
   "source": [
    "Forms can be added like so"
   ]
  },
  {
   "cell_type": "code",
   "execution_count": 14,
   "metadata": {},
   "outputs": [],
   "source": [
    "# <%= form_for :post do |f| %>\n",
    "# <p>\n",
    "#     <%= f.label :title %>\n",
    "#     <%= f.text_field :title %>\n",
    "# </p>"
   ]
  },
  {
   "cell_type": "markdown",
   "metadata": {},
   "source": [
    "Now, ruby has implicit returns so every functions `last line` is automatically the return value"
   ]
  },
  {
   "cell_type": "code",
   "execution_count": 19,
   "metadata": {},
   "outputs": [
    {
     "data": {
      "text/plain": [
       "0"
      ]
     },
     "execution_count": 19,
     "metadata": {},
     "output_type": "execute_result"
    }
   ],
   "source": [
    "def add(x, y)\n",
    "  x + y\n",
    "end\n",
    "def subtract(x, y)\n",
    "  x - y\n",
    "end\n",
    "z = subtract(add(3, 4), add(4, 3))\n"
   ]
  },
  {
   "cell_type": "code",
   "execution_count": null,
   "metadata": {
    "collapsed": true
   },
   "outputs": [],
   "source": []
  }
 ],
 "metadata": {
  "kernelspec": {
   "display_name": "Ruby 2.3.1",
   "language": "ruby",
   "name": "ruby"
  },
  "language_info": {
   "file_extension": ".rb",
   "mimetype": "application/x-ruby",
   "name": "ruby",
   "version": "2.3.1"
  }
 },
 "nbformat": 4,
 "nbformat_minor": 2
}
